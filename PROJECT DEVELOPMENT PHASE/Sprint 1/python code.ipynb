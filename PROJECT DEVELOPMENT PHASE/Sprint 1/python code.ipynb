{
  "nbformat": 4,
  "nbformat_minor": 0,
  "metadata": {
    "colab": {
      "provenance": []
    },
    "kernelspec": {
      "name": "python3",
      "display_name": "Python 3"
    },
    "language_info": {
      "name": "python"
    }
  },
  "cells": [
    {
      "cell_type": "code",
      "execution_count": 3,
      "metadata": {
        "colab": {
          "base_uri": "https://localhost:8080/"
        },
        "id": "H8PnTe-Lz1Au",
        "outputId": "14399ed4-3fdb-4d55-e027-3ab8e63d1d28"
      },
      "outputs": [
        {
          "output_type": "stream",
          "name": "stdout",
          "text": [
            "Looking in indexes: https://pypi.org/simple, https://us-python.pkg.dev/colab-wheels/public/simple/\n",
            "Requirement already satisfied: wiotp-sdk in /usr/local/lib/python3.7/dist-packages (0.11.0)\n",
            "Requirement already satisfied: paho-mqtt>=1.5.0 in /usr/local/lib/python3.7/dist-packages (from wiotp-sdk) (1.6.1)\n",
            "Requirement already satisfied: iso8601>=0.1.12 in /usr/local/lib/python3.7/dist-packages (from wiotp-sdk) (1.1.0)\n",
            "Requirement already satisfied: requests>=2.21.0 in /usr/local/lib/python3.7/dist-packages (from wiotp-sdk) (2.23.0)\n",
            "Requirement already satisfied: pyyaml>=3.13 in /usr/local/lib/python3.7/dist-packages (from wiotp-sdk) (6.0)\n",
            "Requirement already satisfied: requests-toolbelt>=0.8.0 in /usr/local/lib/python3.7/dist-packages (from wiotp-sdk) (0.10.1)\n",
            "Requirement already satisfied: pytz>=2018.9 in /usr/local/lib/python3.7/dist-packages (from wiotp-sdk) (2022.6)\n",
            "Requirement already satisfied: certifi>=2017.4.17 in /usr/local/lib/python3.7/dist-packages (from requests>=2.21.0->wiotp-sdk) (2022.9.24)\n",
            "Requirement already satisfied: urllib3!=1.25.0,!=1.25.1,<1.26,>=1.21.1 in /usr/local/lib/python3.7/dist-packages (from requests>=2.21.0->wiotp-sdk) (1.24.3)\n",
            "Requirement already satisfied: chardet<4,>=3.0.2 in /usr/local/lib/python3.7/dist-packages (from requests>=2.21.0->wiotp-sdk) (3.0.4)\n",
            "Requirement already satisfied: idna<3,>=2.5 in /usr/local/lib/python3.7/dist-packages (from requests>=2.21.0->wiotp-sdk) (2.10)\n"
          ]
        }
      ],
      "source": [
        "!pip install wiotp-sdk"
      ]
    },
    {
      "cell_type": "code",
      "source": [
        "import wiotp.sdk.device\n",
        "import time\n",
        "import random\n",
        "myConfig = { \n",
        "    \"identity\": {\n",
        "        \"orgId\": \"hkc6zs\",\n",
        "        \"typeId\": \"NodeMCU_ESP8266\",\n",
        "        \"deviceId\":\"0101010101\"\n",
        "    },\n",
        "    \"auth\": {\n",
        "        \"token\": \"tuOo@uk5C*QYyxZ2xO\"\n",
        "    }\n",
        "}\n",
        "\n",
        "def myCommandCallback(cmd):\n",
        "    print(\"Message received from IBM IoT Platform: %s\" % cmd.data['command'])\n",
        "    m=cmd.data['command']\n",
        "\n",
        "client = wiotp.sdk.device.DeviceClient(config=myConfig, logHandlers=None)\n",
        "client.connect()\n",
        "\n",
        "while True:\n",
        "    temp=random.randint(-20,125)\n",
        "    hum=random.randint(0,100)\n",
        "    myData={'temperature':temp, 'humidity':hum}\n",
        "    client.publishEvent(eventId=\"status\", msgFormat=\"json\", data=myData, qos=0, onPublish=None)\n",
        "    print(\"Published data Successfully: %s\", myData)\n",
        "    client.commandCallback = myCommandCallback\n",
        "    time.sleep(2)\n",
        "client.disconnect()\n",
        "\t\n",
        "\n"
      ],
      "metadata": {
        "colab": {
          "base_uri": "https://localhost:8080/",
          "height": 1000
        },
        "id": "KoJ-Oh731xZx",
        "outputId": "1c4e7223-412b-46b5-badf-65eb6ed7b4ed"
      },
      "execution_count": 5,
      "outputs": [
        {
          "output_type": "stream",
          "name": "stderr",
          "text": [
            "2022-11-18 06:01:06,184   wiotp.sdk.device.client.DeviceClient  ERROR   Unexpected disconnect from IBM Watson IoT Platform: 7\n",
            "ERROR:wiotp.sdk.device.client.DeviceClient:Unexpected disconnect from IBM Watson IoT Platform: 7\n",
            "2022-11-18 06:01:06,190   wiotp.sdk.device.client.DeviceClient  INFO    Connected successfully: d:hkc6zs:NodeMCU_ESP8266:0101010101\n",
            "INFO:wiotp.sdk.device.client.DeviceClient:Connected successfully: d:hkc6zs:NodeMCU_ESP8266:0101010101\n",
            "2022-11-18 06:01:09,263   wiotp.sdk.device.client.DeviceClient  INFO    Connected successfully: d:hkc6zs:NodeMCU_ESP8266:0101010101\n",
            "INFO:wiotp.sdk.device.client.DeviceClient:Connected successfully: d:hkc6zs:NodeMCU_ESP8266:0101010101\n",
            "2022-11-18 06:01:09,271   wiotp.sdk.device.client.DeviceClient  ERROR   Unexpected disconnect from IBM Watson IoT Platform: 7\n",
            "ERROR:wiotp.sdk.device.client.DeviceClient:Unexpected disconnect from IBM Watson IoT Platform: 7\n"
          ]
        },
        {
          "output_type": "stream",
          "name": "stdout",
          "text": [
            "Published data Successfully: %s {'temperature': 60, 'humidity': 38}\n"
          ]
        },
        {
          "output_type": "stream",
          "name": "stderr",
          "text": [
            "2022-11-18 06:01:09,902   wiotp.sdk.device.client.DeviceClient  ERROR   Unexpected disconnect from IBM Watson IoT Platform: 7\n",
            "ERROR:wiotp.sdk.device.client.DeviceClient:Unexpected disconnect from IBM Watson IoT Platform: 7\n",
            "2022-11-18 06:01:09,903   wiotp.sdk.device.client.DeviceClient  INFO    Connected successfully: d:hkc6zs:NodeMCU_ESP8266:0101010101\n",
            "INFO:wiotp.sdk.device.client.DeviceClient:Connected successfully: d:hkc6zs:NodeMCU_ESP8266:0101010101\n",
            "2022-11-18 06:01:15,878   wiotp.sdk.device.client.DeviceClient  INFO    Connected successfully: d:hkc6zs:NodeMCU_ESP8266:0101010101\n",
            "INFO:wiotp.sdk.device.client.DeviceClient:Connected successfully: d:hkc6zs:NodeMCU_ESP8266:0101010101\n",
            "2022-11-18 06:01:15,881   wiotp.sdk.device.client.DeviceClient  ERROR   Unexpected disconnect from IBM Watson IoT Platform: 7\n",
            "ERROR:wiotp.sdk.device.client.DeviceClient:Unexpected disconnect from IBM Watson IoT Platform: 7\n",
            "2022-11-18 06:01:16,536   wiotp.sdk.device.client.DeviceClient  ERROR   Unexpected disconnect from IBM Watson IoT Platform: 7\n",
            "ERROR:wiotp.sdk.device.client.DeviceClient:Unexpected disconnect from IBM Watson IoT Platform: 7\n",
            "2022-11-18 06:01:16,542   wiotp.sdk.device.client.DeviceClient  INFO    Connected successfully: d:hkc6zs:NodeMCU_ESP8266:0101010101\n",
            "INFO:wiotp.sdk.device.client.DeviceClient:Connected successfully: d:hkc6zs:NodeMCU_ESP8266:0101010101\n"
          ]
        },
        {
          "output_type": "stream",
          "name": "stdout",
          "text": [
            "Published data Successfully: %s {'temperature': 95, 'humidity': 45}\n",
            "Published data Successfully: %s {'temperature': -15, 'humidity': 18}\n",
            "Published data Successfully: %s {'temperature': 118, 'humidity': 91}\n"
          ]
        },
        {
          "output_type": "stream",
          "name": "stderr",
          "text": [
            "2022-11-18 06:01:22,568   wiotp.sdk.device.client.DeviceClient  INFO    Connected successfully: d:hkc6zs:NodeMCU_ESP8266:0101010101\n",
            "INFO:wiotp.sdk.device.client.DeviceClient:Connected successfully: d:hkc6zs:NodeMCU_ESP8266:0101010101\n",
            "2022-11-18 06:01:22,569   wiotp.sdk.device.client.DeviceClient  ERROR   Unexpected disconnect from IBM Watson IoT Platform: 7\n",
            "ERROR:wiotp.sdk.device.client.DeviceClient:Unexpected disconnect from IBM Watson IoT Platform: 7\n"
          ]
        },
        {
          "output_type": "stream",
          "name": "stdout",
          "text": [
            "Published data Successfully: %s {'temperature': 111, 'humidity': 21}\n"
          ]
        },
        {
          "output_type": "stream",
          "name": "stderr",
          "text": [
            "2022-11-18 06:01:23,170   wiotp.sdk.device.client.DeviceClient  INFO    Connected successfully: d:hkc6zs:NodeMCU_ESP8266:0101010101\n",
            "INFO:wiotp.sdk.device.client.DeviceClient:Connected successfully: d:hkc6zs:NodeMCU_ESP8266:0101010101\n",
            "2022-11-18 06:01:23,176   wiotp.sdk.device.client.DeviceClient  ERROR   Unexpected disconnect from IBM Watson IoT Platform: 7\n",
            "ERROR:wiotp.sdk.device.client.DeviceClient:Unexpected disconnect from IBM Watson IoT Platform: 7\n",
            "2022-11-18 06:01:26,787   wiotp.sdk.device.client.DeviceClient  INFO    Connected successfully: d:hkc6zs:NodeMCU_ESP8266:0101010101\n",
            "INFO:wiotp.sdk.device.client.DeviceClient:Connected successfully: d:hkc6zs:NodeMCU_ESP8266:0101010101\n",
            "2022-11-18 06:01:26,787   wiotp.sdk.device.client.DeviceClient  ERROR   Unexpected disconnect from IBM Watson IoT Platform: 7\n",
            "ERROR:wiotp.sdk.device.client.DeviceClient:Unexpected disconnect from IBM Watson IoT Platform: 7\n",
            "2022-11-18 06:01:29,193   wiotp.sdk.device.client.DeviceClient  INFO    Connected successfully: d:hkc6zs:NodeMCU_ESP8266:0101010101\n",
            "INFO:wiotp.sdk.device.client.DeviceClient:Connected successfully: d:hkc6zs:NodeMCU_ESP8266:0101010101\n",
            "2022-11-18 06:01:29,195   wiotp.sdk.device.client.DeviceClient  ERROR   Unexpected disconnect from IBM Watson IoT Platform: 7\n",
            "ERROR:wiotp.sdk.device.client.DeviceClient:Unexpected disconnect from IBM Watson IoT Platform: 7\n"
          ]
        },
        {
          "output_type": "stream",
          "name": "stdout",
          "text": [
            "Published data Successfully: %s {'temperature': 59, 'humidity': 66}\n"
          ]
        },
        {
          "output_type": "stream",
          "name": "stderr",
          "text": [
            "2022-11-18 06:01:30,448   wiotp.sdk.device.client.DeviceClient  ERROR   Unexpected disconnect from IBM Watson IoT Platform: 7\n",
            "ERROR:wiotp.sdk.device.client.DeviceClient:Unexpected disconnect from IBM Watson IoT Platform: 7\n",
            "2022-11-18 06:01:30,449   wiotp.sdk.device.client.DeviceClient  INFO    Connected successfully: d:hkc6zs:NodeMCU_ESP8266:0101010101\n",
            "INFO:wiotp.sdk.device.client.DeviceClient:Connected successfully: d:hkc6zs:NodeMCU_ESP8266:0101010101\n",
            "2022-11-18 06:01:32,062   wiotp.sdk.device.client.DeviceClient  ERROR   Unexpected disconnect from IBM Watson IoT Platform: 7\n",
            "ERROR:wiotp.sdk.device.client.DeviceClient:Unexpected disconnect from IBM Watson IoT Platform: 7\n",
            "2022-11-18 06:01:35,829   wiotp.sdk.device.client.DeviceClient  ERROR   Unexpected disconnect from IBM Watson IoT Platform: 7\n",
            "ERROR:wiotp.sdk.device.client.DeviceClient:Unexpected disconnect from IBM Watson IoT Platform: 7\n",
            "2022-11-18 06:01:35,835   wiotp.sdk.device.client.DeviceClient  INFO    Connected successfully: d:hkc6zs:NodeMCU_ESP8266:0101010101\n",
            "INFO:wiotp.sdk.device.client.DeviceClient:Connected successfully: d:hkc6zs:NodeMCU_ESP8266:0101010101\n",
            "2022-11-18 06:01:39,730   wiotp.sdk.device.client.DeviceClient  INFO    Connected successfully: d:hkc6zs:NodeMCU_ESP8266:0101010101\n",
            "INFO:wiotp.sdk.device.client.DeviceClient:Connected successfully: d:hkc6zs:NodeMCU_ESP8266:0101010101\n",
            "2022-11-18 06:01:39,736   wiotp.sdk.device.client.DeviceClient  ERROR   Unexpected disconnect from IBM Watson IoT Platform: 7\n",
            "ERROR:wiotp.sdk.device.client.DeviceClient:Unexpected disconnect from IBM Watson IoT Platform: 7\n"
          ]
        },
        {
          "output_type": "stream",
          "name": "stdout",
          "text": [
            "Published data Successfully: %s {'temperature': 2, 'humidity': 33}\n",
            "Published data Successfully: %s {'temperature': -4, 'humidity': 98}\n"
          ]
        },
        {
          "output_type": "stream",
          "name": "stderr",
          "text": [
            "2022-11-18 06:01:42,440   wiotp.sdk.device.client.DeviceClient  INFO    Connected successfully: d:hkc6zs:NodeMCU_ESP8266:0101010101\n",
            "INFO:wiotp.sdk.device.client.DeviceClient:Connected successfully: d:hkc6zs:NodeMCU_ESP8266:0101010101\n",
            "2022-11-18 06:01:42,441   wiotp.sdk.device.client.DeviceClient  ERROR   Unexpected disconnect from IBM Watson IoT Platform: 7\n",
            "ERROR:wiotp.sdk.device.client.DeviceClient:Unexpected disconnect from IBM Watson IoT Platform: 7\n",
            "2022-11-18 06:01:43,543   wiotp.sdk.device.client.DeviceClient  ERROR   Unexpected disconnect from IBM Watson IoT Platform: 7\n",
            "ERROR:wiotp.sdk.device.client.DeviceClient:Unexpected disconnect from IBM Watson IoT Platform: 7\n",
            "2022-11-18 06:01:43,550   wiotp.sdk.device.client.DeviceClient  INFO    Connected successfully: d:hkc6zs:NodeMCU_ESP8266:0101010101\n",
            "INFO:wiotp.sdk.device.client.DeviceClient:Connected successfully: d:hkc6zs:NodeMCU_ESP8266:0101010101\n",
            "2022-11-18 06:01:49,047   wiotp.sdk.device.client.DeviceClient  INFO    Connected successfully: d:hkc6zs:NodeMCU_ESP8266:0101010101\n",
            "INFO:wiotp.sdk.device.client.DeviceClient:Connected successfully: d:hkc6zs:NodeMCU_ESP8266:0101010101\n",
            "2022-11-18 06:01:49,054   wiotp.sdk.device.client.DeviceClient  ERROR   Unexpected disconnect from IBM Watson IoT Platform: 7\n",
            "ERROR:wiotp.sdk.device.client.DeviceClient:Unexpected disconnect from IBM Watson IoT Platform: 7\n"
          ]
        },
        {
          "output_type": "stream",
          "name": "stdout",
          "text": [
            "Published data Successfully: %s {'temperature': 16, 'humidity': 57}\n"
          ]
        },
        {
          "output_type": "stream",
          "name": "stderr",
          "text": [
            "2022-11-18 06:01:50,194   wiotp.sdk.device.client.DeviceClient  INFO    Connected successfully: d:hkc6zs:NodeMCU_ESP8266:0101010101\n",
            "INFO:wiotp.sdk.device.client.DeviceClient:Connected successfully: d:hkc6zs:NodeMCU_ESP8266:0101010101\n",
            "2022-11-18 06:01:50,199   wiotp.sdk.device.client.DeviceClient  ERROR   Unexpected disconnect from IBM Watson IoT Platform: 7\n",
            "ERROR:wiotp.sdk.device.client.DeviceClient:Unexpected disconnect from IBM Watson IoT Platform: 7\n",
            "2022-11-18 06:01:52,698   wiotp.sdk.device.client.DeviceClient  ERROR   Unexpected disconnect from IBM Watson IoT Platform: 7\n",
            "ERROR:wiotp.sdk.device.client.DeviceClient:Unexpected disconnect from IBM Watson IoT Platform: 7\n",
            "2022-11-18 06:01:52,704   wiotp.sdk.device.client.DeviceClient  INFO    Connected successfully: d:hkc6zs:NodeMCU_ESP8266:0101010101\n",
            "INFO:wiotp.sdk.device.client.DeviceClient:Connected successfully: d:hkc6zs:NodeMCU_ESP8266:0101010101\n",
            "2022-11-18 06:01:56,360   wiotp.sdk.device.client.DeviceClient  INFO    Connected successfully: d:hkc6zs:NodeMCU_ESP8266:0101010101\n",
            "INFO:wiotp.sdk.device.client.DeviceClient:Connected successfully: d:hkc6zs:NodeMCU_ESP8266:0101010101\n",
            "2022-11-18 06:01:56,366   wiotp.sdk.device.client.DeviceClient  ERROR   Unexpected disconnect from IBM Watson IoT Platform: 7\n",
            "ERROR:wiotp.sdk.device.client.DeviceClient:Unexpected disconnect from IBM Watson IoT Platform: 7\n",
            "2022-11-18 06:01:56,845   wiotp.sdk.device.client.DeviceClient  ERROR   Unexpected disconnect from IBM Watson IoT Platform: 7\n",
            "ERROR:wiotp.sdk.device.client.DeviceClient:Unexpected disconnect from IBM Watson IoT Platform: 7\n",
            "2022-11-18 06:01:56,851   wiotp.sdk.device.client.DeviceClient  INFO    Connected successfully: d:hkc6zs:NodeMCU_ESP8266:0101010101\n",
            "INFO:wiotp.sdk.device.client.DeviceClient:Connected successfully: d:hkc6zs:NodeMCU_ESP8266:0101010101\n"
          ]
        },
        {
          "output_type": "stream",
          "name": "stdout",
          "text": [
            "Published data Successfully: %s {'temperature': -10, 'humidity': 72}\n"
          ]
        },
        {
          "output_type": "error",
          "ename": "KeyboardInterrupt",
          "evalue": "ignored",
          "traceback": [
            "\u001b[0;31m---------------------------------------------------------------------------\u001b[0m",
            "\u001b[0;31mKeyboardInterrupt\u001b[0m                         Traceback (most recent call last)",
            "\u001b[0;32m<ipython-input-5-105d60121a03>\u001b[0m in \u001b[0;36m<module>\u001b[0;34m\u001b[0m\n\u001b[1;32m     27\u001b[0m     \u001b[0mprint\u001b[0m\u001b[0;34m(\u001b[0m\u001b[0;34m\"Published data Successfully: %s\"\u001b[0m\u001b[0;34m,\u001b[0m \u001b[0mmyData\u001b[0m\u001b[0;34m)\u001b[0m\u001b[0;34m\u001b[0m\u001b[0;34m\u001b[0m\u001b[0m\n\u001b[1;32m     28\u001b[0m     \u001b[0mclient\u001b[0m\u001b[0;34m.\u001b[0m\u001b[0mcommandCallback\u001b[0m \u001b[0;34m=\u001b[0m \u001b[0mmyCommandCallback\u001b[0m\u001b[0;34m\u001b[0m\u001b[0;34m\u001b[0m\u001b[0m\n\u001b[0;32m---> 29\u001b[0;31m     \u001b[0mtime\u001b[0m\u001b[0;34m.\u001b[0m\u001b[0msleep\u001b[0m\u001b[0;34m(\u001b[0m\u001b[0;36m2\u001b[0m\u001b[0;34m)\u001b[0m\u001b[0;34m\u001b[0m\u001b[0;34m\u001b[0m\u001b[0m\n\u001b[0m\u001b[1;32m     30\u001b[0m \u001b[0mclient\u001b[0m\u001b[0;34m.\u001b[0m\u001b[0mdisconnect\u001b[0m\u001b[0;34m(\u001b[0m\u001b[0;34m)\u001b[0m\u001b[0;34m\u001b[0m\u001b[0;34m\u001b[0m\u001b[0m\n\u001b[1;32m     31\u001b[0m \u001b[0;34m\u001b[0m\u001b[0m\n",
            "\u001b[0;31mKeyboardInterrupt\u001b[0m: "
          ]
        }
      ]
    }
  ]
}